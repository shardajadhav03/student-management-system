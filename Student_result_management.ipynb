{
 "cells": [
  {
   "cell_type": "markdown",
   "id": "907c0820-19bf-4a51-a38a-15feb4d7ab43",
   "metadata": {},
   "source": [
    "# Student result management Project"
   ]
  },
  {
   "cell_type": "code",
   "execution_count": null,
   "id": "087d276d-f025-4e78-a9a6-069f0d9f97de",
   "metadata": {},
   "outputs": [],
   "source": [
    "Functions handling user input:\n",
    "\n",
    "\t1.\tprint_header\n",
    "\t2.\tprint_options\n",
    "\t3.\tget_teacher_login_input\n",
    "\t4.\tget_stud_login_input\n",
    "\t5.\tget_stud_info_input - teacher enter student info wich is store in dict\n",
    "    6.  get_stud_result_input\n",
    "    7.  get_roll_no_input\n",
    "\n",
    "Functions performing logic:\n",
    "\n",
    "\t1.\tcreate_teacher_account\n",
    "\t2.\tcreate_student_account\n",
    "    3.  teacher_login\n",
    "    4.  student_login\n",
    "    5.  validate_credintial\n",
    "    6.  generate_stud_roll_no\n",
    "    7.  search_roll_no\n",
    "    8.  get_stud_result"
   ]
  },
  {
   "cell_type": "code",
   "execution_count": 4,
   "id": "542be30e-04d0-4d78-ad30-ebe63d9d2b64",
   "metadata": {},
   "outputs": [],
   "source": [
    "# global variable \n",
    "school_name = 'Sainik Public School'\n",
    "teacher = \"Teacher's Console\"\n",
    "student = \"Student's Console\"\n",
    "width = 50\n",
    "student_db = {}\n",
    "teacher_db = {}\n",
    "std_id = 0\n",
    "total_marks = 200"
   ]
  },
  {
   "cell_type": "code",
   "execution_count": 5,
   "id": "140f0f15-1c50-42d8-b833-30fb4534a36b",
   "metadata": {},
   "outputs": [],
   "source": [
    "# Screens\n",
    "def print_header():\n",
    "    print(f\"{'-' * width}\\n{school_name.center(width)}\\n{'-'* width}\")\n",
    "\n",
    "def print_techer_header():\n",
    "    print(f\"{'-'* width}\\n{teacher.center(width)}\\n{'-'* width}\")\n",
    "\n",
    "def print_stud_header():\n",
    "    print(f\"{'-'* width}\\n{student.center(width)}\\n{'-'* width}\")\n",
    "    \n",
    "def print_options(options):\n",
    "    for i,j in enumerate(options,1):\n",
    "        print(f'{i}) {j}')\n",
    "    ch = input('Enter your choice: ')\n",
    "    return ch\n",
    "\n",
    "def get_teacher_login_input():\n",
    "    username = input('enter your username: ')\n",
    "    paswd = input('Enter your password: ')\n",
    "    return username,paswd\n",
    "\n",
    "def get_stud_info_input():\n",
    "    stud_name = input('Enter student name: ')\n",
    "    english = int(input('Enter English Marks: '))\n",
    "    maths = int(input('Enter Maths Marks: '))\n",
    "    percentage = ((english + maths)*100)/total_marks\n",
    "    return stud_name, english, maths, percentage\n"
   ]
  },
  {
   "cell_type": "code",
   "execution_count": 6,
   "id": "83500188-4af3-4d9b-ab2e-c794ccecce7c",
   "metadata": {},
   "outputs": [],
   "source": [
    "def generate_stud_roll_no():\n",
    "    global std_id\n",
    "    std_id += 1\n",
    "    return std_id\n",
    "\n",
    "def teacher_login():\n",
    "    print_techer_header()\n",
    "    username, paswd = get_teacher_login_input()\n",
    "    global teacher_db\n",
    "    teacher_db['username'] = username\n",
    "    teacher_db['paswd']= paswd\n",
    "\n",
    "# def teacher_validation(user,paswd):\n",
    "#     if user in teacher_db and paswd == teacher_db[user]['paswd']:\n",
    "#         return True\n",
    "#     else:\n",
    "#         return False\n",
    "\n",
    "def get_stud_rank(percentage):\n",
    "    student_percentage_info = [(data['percentage'], data) for data in student_db.values()]\n",
    "    student_percentage_info.sort(reverse=True)\n",
    "    rank = 1\n",
    "    for stud_percentage, data in student_percentage_info:\n",
    "        if stud_percentage > percentage:\n",
    "            rank += 1\n",
    "    return rank\n",
    "\n",
    "\n",
    "def get_stud_result():\n",
    "    roll_num = int(input('Enter roll number: '))\n",
    "    global student_db\n",
    "    student_info = student_db.get(roll_num)\n",
    "    percentage = ((student_info['marks']['english'] + student_info['marks']['math'])*100)/200\n",
    "    rank = get_stud_rank(percentage)\n",
    "    if student_info:\n",
    "        print(f\"Name\\t: {student_info['name']}\\nRoll No\\t: {roll_num}\\n{'-'* width}\\nEnglish Marks\\t: {student_info['marks']['english']}\\nMaths Marks\\t: {student_info['marks']['math']}\\n{'-'* width}\\nPercentage\\t: {percentage}%\\nrank\\t: {rank}\")\n",
    "    else:\n",
    "        print(\"Student not found!\")\n",
    "\n",
    "def search_roll_no():\n",
    "    stud_name = input('Enter Name to Search: ')\n",
    "    found = False\n",
    "    global student_db\n",
    "    for roll_no, data in student_db.items():\n",
    "        if stud_name.lower() in data['name'].lower():\n",
    "            print(f\"{data['name']}\\t\\t\\t\\t{roll_no}\")\n",
    "            found = True\n",
    "    if not found:\n",
    "        print('student not found')\n",
    "\n",
    "def create_student_account():\n",
    "    name,english,maths,per = get_stud_info_input()\n",
    "    global student_db\n",
    "    roll_no = generate_stud_roll_no()\n",
    "    student_db[roll_no]= {'name':name,\n",
    "                          'marks':{'english': english,'math': maths},\n",
    "                          'percentage': per\n",
    "                         }\n",
    "    print(f'Student info of roll no. {roll_no} added successfully !!')\n",
    "\n",
    "def teacher_loggedin():\n",
    "    while True:\n",
    "        print_techer_header()\n",
    "        ch = print_options(['Get Result','Search Roll No','Enter Student Info','Exit'])\n",
    "        if ch == '1':\n",
    "            get_stud_result()\n",
    "        elif ch == '2':\n",
    "            search_roll_no()\n",
    "        elif ch == '3':\n",
    "            create_student_account()\n",
    "        elif ch == '4':\n",
    "            return\n",
    "\n",
    "def student_loggedin():\n",
    "    while True:\n",
    "        print_stud_header()\n",
    "        ch = print_options(['Get Result','Search Roll No','exit'])\n",
    "        if ch == '1':\n",
    "            get_stud_result()\n",
    "        elif ch == '2':\n",
    "            search_roll_no()\n",
    "        elif ch == '3':\n",
    "            return"
   ]
  },
  {
   "cell_type": "code",
   "execution_count": 7,
   "id": "47e649a1-fd1d-4427-a908-4fe91b46fac5",
   "metadata": {},
   "outputs": [],
   "source": [
    "def main():\n",
    "    while True:\n",
    "        print_header()\n",
    "        choice = print_options(['Teacher login','Student login','Exit'])\n",
    "        if choice == '1':\n",
    "            teacher_login()\n",
    "            teacher_loggedin()\n",
    "            print('-'*width)\n",
    "        elif choice == '2':\n",
    "            student_loggedin()\n",
    "            print('-'*width)\n",
    "        elif choice == '3':\n",
    "            thank = '---Thank You---'\n",
    "            print(thank.center(width))\n",
    "            break"
   ]
  },
  {
   "cell_type": "code",
   "execution_count": 8,
   "id": "4edf0530-018d-4948-b3bf-1fd3da8d946a",
   "metadata": {},
   "outputs": [
    {
     "name": "stdout",
     "output_type": "stream",
     "text": [
      "--------------------------------------------------\n",
      "               Sainik Public School               \n",
      "--------------------------------------------------\n",
      "1) Teacher login\n",
      "2) Student login\n",
      "3) Exit\n"
     ]
    },
    {
     "name": "stdin",
     "output_type": "stream",
     "text": [
      "Enter your choice:  1\n"
     ]
    },
    {
     "name": "stdout",
     "output_type": "stream",
     "text": [
      "--------------------------------------------------\n",
      "                Teacher's Console                 \n",
      "--------------------------------------------------\n"
     ]
    },
    {
     "name": "stdin",
     "output_type": "stream",
     "text": [
      "enter your username:  anuj\n",
      "Enter your password:  123\n"
     ]
    },
    {
     "name": "stdout",
     "output_type": "stream",
     "text": [
      "--------------------------------------------------\n",
      "                Teacher's Console                 \n",
      "--------------------------------------------------\n",
      "1) Get Result\n",
      "2) Search Roll No\n",
      "3) Enter Student Info\n",
      "4) Exit\n"
     ]
    },
    {
     "name": "stdin",
     "output_type": "stream",
     "text": [
      "Enter your choice:  3\n",
      "Enter student name:  sharda Jadhav\n",
      "Enter English Marks:  88\n",
      "Enter Maths Marks:  97\n"
     ]
    },
    {
     "name": "stdout",
     "output_type": "stream",
     "text": [
      "Student info of roll no. 1 added successfully !!\n",
      "--------------------------------------------------\n",
      "                Teacher's Console                 \n",
      "--------------------------------------------------\n",
      "1) Get Result\n",
      "2) Search Roll No\n",
      "3) Enter Student Info\n",
      "4) Exit\n"
     ]
    },
    {
     "name": "stdin",
     "output_type": "stream",
     "text": [
      "Enter your choice:  3\n",
      "Enter student name:  sharda Rathod\n",
      "Enter English Marks:  85\n",
      "Enter Maths Marks:  90\n"
     ]
    },
    {
     "name": "stdout",
     "output_type": "stream",
     "text": [
      "Student info of roll no. 2 added successfully !!\n",
      "--------------------------------------------------\n",
      "                Teacher's Console                 \n",
      "--------------------------------------------------\n",
      "1) Get Result\n",
      "2) Search Roll No\n",
      "3) Enter Student Info\n",
      "4) Exit\n"
     ]
    },
    {
     "name": "stdin",
     "output_type": "stream",
     "text": [
      "Enter your choice:  2\n",
      "Enter Name to Search:  sharda\n"
     ]
    },
    {
     "name": "stdout",
     "output_type": "stream",
     "text": [
      "sharda Jadhav\t\t\t\t1\n",
      "sharda Rathod\t\t\t\t2\n",
      "--------------------------------------------------\n",
      "                Teacher's Console                 \n",
      "--------------------------------------------------\n",
      "1) Get Result\n",
      "2) Search Roll No\n",
      "3) Enter Student Info\n",
      "4) Exit\n"
     ]
    },
    {
     "name": "stdin",
     "output_type": "stream",
     "text": [
      "Enter your choice:  1\n",
      "Enter roll number:  1\n"
     ]
    },
    {
     "name": "stdout",
     "output_type": "stream",
     "text": [
      "Name\t: sharda Jadhav\n",
      "Roll No\t: 1\n",
      "--------------------------------------------------\n",
      "English Marks\t: 88\n",
      "Maths Marks\t: 97\n",
      "--------------------------------------------------\n",
      "Percentage\t: 92.5%\n",
      "rank\t: 1\n",
      "--------------------------------------------------\n",
      "                Teacher's Console                 \n",
      "--------------------------------------------------\n",
      "1) Get Result\n",
      "2) Search Roll No\n",
      "3) Enter Student Info\n",
      "4) Exit\n"
     ]
    },
    {
     "name": "stdin",
     "output_type": "stream",
     "text": [
      "Enter your choice:  4\n"
     ]
    },
    {
     "name": "stdout",
     "output_type": "stream",
     "text": [
      "--------------------------------------------------\n",
      "--------------------------------------------------\n",
      "               Sainik Public School               \n",
      "--------------------------------------------------\n",
      "1) Teacher login\n",
      "2) Student login\n",
      "3) Exit\n"
     ]
    },
    {
     "name": "stdin",
     "output_type": "stream",
     "text": [
      "Enter your choice:  2\n"
     ]
    },
    {
     "name": "stdout",
     "output_type": "stream",
     "text": [
      "--------------------------------------------------\n",
      "                Student's Console                 \n",
      "--------------------------------------------------\n",
      "1) Get Result\n",
      "2) Search Roll No\n",
      "3) exit\n"
     ]
    },
    {
     "name": "stdin",
     "output_type": "stream",
     "text": [
      "Enter your choice:  1\n",
      "Enter roll number:  2\n"
     ]
    },
    {
     "name": "stdout",
     "output_type": "stream",
     "text": [
      "Name\t: sharda Rathod\n",
      "Roll No\t: 2\n",
      "--------------------------------------------------\n",
      "English Marks\t: 85\n",
      "Maths Marks\t: 90\n",
      "--------------------------------------------------\n",
      "Percentage\t: 87.5%\n",
      "rank\t: 2\n",
      "--------------------------------------------------\n",
      "                Student's Console                 \n",
      "--------------------------------------------------\n",
      "1) Get Result\n",
      "2) Search Roll No\n",
      "3) exit\n"
     ]
    },
    {
     "name": "stdin",
     "output_type": "stream",
     "text": [
      "Enter your choice:  2\n",
      "Enter Name to Search:  sharda jadhav\n"
     ]
    },
    {
     "name": "stdout",
     "output_type": "stream",
     "text": [
      "sharda Jadhav\t\t\t\t1\n",
      "--------------------------------------------------\n",
      "                Student's Console                 \n",
      "--------------------------------------------------\n",
      "1) Get Result\n",
      "2) Search Roll No\n",
      "3) exit\n"
     ]
    },
    {
     "name": "stdin",
     "output_type": "stream",
     "text": [
      "Enter your choice:  3\n"
     ]
    },
    {
     "name": "stdout",
     "output_type": "stream",
     "text": [
      "--------------------------------------------------\n",
      "--------------------------------------------------\n",
      "               Sainik Public School               \n",
      "--------------------------------------------------\n",
      "1) Teacher login\n",
      "2) Student login\n",
      "3) Exit\n"
     ]
    },
    {
     "name": "stdin",
     "output_type": "stream",
     "text": [
      "Enter your choice:  3\n"
     ]
    },
    {
     "name": "stdout",
     "output_type": "stream",
     "text": [
      "                 ---Thank You---                  \n"
     ]
    }
   ],
   "source": [
    "main()"
   ]
  },
  {
   "cell_type": "code",
   "execution_count": 24,
   "id": "d2929b5d-1957-423a-b2cf-855f026faa85",
   "metadata": {},
   "outputs": [
    {
     "data": {
      "text/plain": [
       "{1: {'name': 'sharda jadhav',\n",
       "  'marks': {'english': 88, 'math': 97},\n",
       "  'percentage': 92.5},\n",
       " 2: {'name': 'sharda rathod',\n",
       "  'marks': {'english': 81, 'math': 88},\n",
       "  'percentage': 84.5},\n",
       " 3: {'name': 'sneha',\n",
       "  'marks': {'english': 90, 'math': 98},\n",
       "  'percentage': 94.0}}"
      ]
     },
     "execution_count": 24,
     "metadata": {},
     "output_type": "execute_result"
    }
   ],
   "source": [
    "student_db"
   ]
  },
  {
   "cell_type": "code",
   "execution_count": 29,
   "id": "a7a948ff-ee84-42fc-a6d6-d428c07f37bf",
   "metadata": {},
   "outputs": [
    {
     "name": "stdout",
     "output_type": "stream",
     "text": [
      "[(3, {'name': 'sneha', 'marks': {'english': 90, 'math': 98}, 'percentage': 94.0}), (1, {'name': 'sharda jadhav', 'marks': {'english': 88, 'math': 97}, 'percentage': 92.5}), (2, {'name': 'sharda rathod', 'marks': {'english': 81, 'math': 88}, 'percentage': 84.5})]\n"
     ]
    }
   ],
   "source": [
    "\n",
    "rank = sorted(student_db.items(), key = lambda x:x[1]['percentage'],reverse= True)\n",
    "print(rank)"
   ]
  },
  {
   "cell_type": "code",
   "execution_count": null,
   "id": "3920210a-8052-4a6b-b9c6-7a4d3448f280",
   "metadata": {},
   "outputs": [],
   "source": [
    "def get_rank(percentage):\n",
    "    student_percentage_info = [(info['percentage'], info) for info in student_db.values()]\n",
    "    student_percentage_info.sort(reverse=True)\n",
    "    rank = 1\n",
    "    for stud_percentage, info in student_percentage_info:\n",
    "        if stud_percentage > percentage:\n",
    "            rank += 1\n",
    "    return rank\n"
   ]
  },
  {
   "cell_type": "code",
   "execution_count": null,
   "id": "d7416f4e-a6dc-483b-aa7a-94fb1a244587",
   "metadata": {},
   "outputs": [],
   "source": [
    "    stud_rank = sorted(student_db.items(), key = lambda x:x[1]['percentage'],reverse= True)\n",
    "    rank = 1\n",
    "    for roll_no, data in stud_rank:\n",
    "        if data['percentage'] > percentage:\n",
    "            rank +=1\n",
    "    return rank"
   ]
  },
  {
   "cell_type": "markdown",
   "id": "9cfdf58a-f5a5-4a96-ad44-a30d58397343",
   "metadata": {},
   "source": [
    "# OR"
   ]
  },
  {
   "cell_type": "code",
   "execution_count": 1,
   "id": "c4470b85-995b-4bea-895e-57b04dac8169",
   "metadata": {},
   "outputs": [],
   "source": [
    "student = {}\n",
    "teacher = {1:{\"Anuj\": \"123\"}}\n",
    "rollNo = 0\n",
    "teacherNo = 0\n",
    "rank = 0"
   ]
  },
  {
   "cell_type": "code",
   "execution_count": 2,
   "id": "8539f780-bab5-444f-b224-23f1871dd9ae",
   "metadata": {},
   "outputs": [],
   "source": [
    "def createStudent(student):\n",
    "    global rollNo\n",
    "    rollNo += 1\n",
    "    studentName = input(\"Enter Student Name:\")\n",
    "    engMarks = int(input(\"Enter English Marks:\"))\n",
    "    mathMarks = int(input(\"Enter Mathematics Marks:\"))\n",
    "    percentage = ((engMarks+mathMarks)/200)*100\n",
    "    student[rollNo] = {\"Name\": studentName,\n",
    "                       \"English Marks\": engMarks,\n",
    "                       \"Mathematics Marks\": mathMarks,\n",
    "                       \"Percentage\": percentage}"
   ]
  },
  {
   "cell_type": "code",
   "execution_count": 11,
   "id": "75aecaec-206a-463e-bb69-e77e8332d6be",
   "metadata": {},
   "outputs": [],
   "source": [
    "def getResult(student):\n",
    "    inpRoll = int(input(\"Enter your roll number:\"))\n",
    "    global rank\n",
    "    rankList = []\n",
    "    for i in student:\n",
    "        rankList.append(student[i][\"Percentage\"])\n",
    "    rankList.sort(reverse=True)\n",
    "    \n",
    "    if inpRoll in student:\n",
    "        for i in rankList:\n",
    "            if student[inpRoll][\"Percentage\"] == i:\n",
    "                rank = rankList.index(i) + 1\n",
    "                print(f\"Rank:{rank}\")\n",
    "            else:\n",
    "                pass\n",
    "    else:\n",
    "        print(\"Invalid Roll Number\")"
   ]
  },
  {
   "cell_type": "code",
   "execution_count": 4,
   "id": "ba6eaf84-693a-4a50-93aa-dff2681ec545",
   "metadata": {},
   "outputs": [],
   "source": [
    "def searchRoll(student):\n",
    "    name = input(\"Enter the name:\")\n",
    "    for i in student:\n",
    "        if student[i][\"Name\"] == name:\n",
    "            print(f\"Name:{name} Roll No.:{i}\")"
   ]
  },
  {
   "cell_type": "code",
   "execution_count": 5,
   "id": "1c620395-d729-4ec2-a8dc-a1f77350cc5d",
   "metadata": {},
   "outputs": [],
   "source": [
    "def createTeacher(teacher):\n",
    "    teacherNo += 1\n",
    "    teacherName = input(\"Enter Student Name:\")\n",
    "    teacherPass = input(\"Enter Password:\")\n",
    "    teacher[teacherNo] = {\"Name\": teacherName,\n",
    "                          \"Password\": teacherPass}"
   ]
  },
  {
   "cell_type": "code",
   "execution_count": 6,
   "id": "c5231438-b040-4b70-96e5-55634b7237cb",
   "metadata": {},
   "outputs": [],
   "source": [
    "def teacherLogin(teacher):\n",
    "    inputUsername = input(\"Enter your name:\")\n",
    "    inputPass = input(\"Enter your password:\")\n",
    "    for i in teacher:\n",
    "        if inputUsername in teacher[i].keys() and inputPass == teacher[i][inputUsername]:\n",
    "            print(\"Welcome \" + inputUsername)\n",
    "            teacherMenu()\n",
    "        else:\n",
    "            print(\"Wrong credentials\")"
   ]
  },
  {
   "cell_type": "code",
   "execution_count": 7,
   "id": "af8b95b6-c210-41ef-b8a1-0814f69a1e85",
   "metadata": {},
   "outputs": [],
   "source": [
    "def teacherMenu():\n",
    "    print('''1. Get Result\n",
    "2. Search Roll Number\n",
    "3. Enter Student Info\n",
    "4. Exit''')\n",
    "    opt = int(input(\"Enter your choice:\"))\n",
    "    match opt:\n",
    "          case 1:\n",
    "              getResult(student)\n",
    "          case 2:\n",
    "              searchRoll(student)\n",
    "          case 3:\n",
    "              createStudent(student)\n",
    "          case 4:\n",
    "              pass"
   ]
  },
  {
   "cell_type": "code",
   "execution_count": 8,
   "id": "5754e952-dfef-476e-b320-cf135fda9673",
   "metadata": {},
   "outputs": [],
   "source": [
    "def studentMenu():\n",
    "    print('''1. Get Result\n",
    "2. Search Roll Number\n",
    "3. Exit''')\n",
    "    opt = int(input(\"Enter your choice:\"))\n",
    "    match opt:\n",
    "          case 1:\n",
    "              getResult(student)\n",
    "          case 2:\n",
    "              searchRoll(student)\n",
    "          case 3:\n",
    "              pass"
   ]
  },
  {
   "cell_type": "code",
   "execution_count": 9,
   "id": "b810d50e-3a59-4a54-b41a-fd543b1f28eb",
   "metadata": {},
   "outputs": [],
   "source": [
    "def mainMenu():\n",
    "    print('''1. Teacher's Login\n",
    "2. Student's Login\n",
    "3. Exit''')\n",
    "    opt = int(input(\"Enter your choice:\"))\n",
    "    match opt:\n",
    "          case 1:\n",
    "              teacherLogin(teacher)\n",
    "          case 2:\n",
    "              studentMenu()\n",
    "          case 3:\n",
    "              pass"
   ]
  },
  {
   "cell_type": "code",
   "execution_count": 12,
   "id": "28ed8524-2792-4bd7-becb-b7be4b5fb1c0",
   "metadata": {},
   "outputs": [
    {
     "name": "stdout",
     "output_type": "stream",
     "text": [
      "1. Teacher's Login\n",
      "2. Student's Login\n",
      "3. Exit\n"
     ]
    },
    {
     "name": "stdin",
     "output_type": "stream",
     "text": [
      "Enter your choice: 1\n",
      "Enter your name: Anuj\n",
      "Enter your password: 123\n"
     ]
    },
    {
     "name": "stdout",
     "output_type": "stream",
     "text": [
      "Welcome Anuj\n",
      "1. Get Result\n",
      "2. Search Roll Number\n",
      "3. Enter Student Info\n",
      "4. Exit\n"
     ]
    },
    {
     "name": "stdin",
     "output_type": "stream",
     "text": [
      "Enter your choice: 1\n",
      "Enter your roll number: 1\n"
     ]
    },
    {
     "name": "stdout",
     "output_type": "stream",
     "text": [
      "Rank:1\n"
     ]
    }
   ],
   "source": [
    "mainMenu()"
   ]
  },
  {
   "cell_type": "code",
   "execution_count": null,
   "id": "b6b1f3d5-2890-4bee-b5c9-317cd6a53107",
   "metadata": {},
   "outputs": [],
   "source": []
  }
 ],
 "metadata": {
  "kernelspec": {
   "display_name": "Python 3 (ipykernel)",
   "language": "python",
   "name": "python3"
  },
  "language_info": {
   "codemirror_mode": {
    "name": "ipython",
    "version": 3
   },
   "file_extension": ".py",
   "mimetype": "text/x-python",
   "name": "python",
   "nbconvert_exporter": "python",
   "pygments_lexer": "ipython3",
   "version": "3.11.4"
  }
 },
 "nbformat": 4,
 "nbformat_minor": 5
}
